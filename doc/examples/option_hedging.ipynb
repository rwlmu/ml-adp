{
 "cells": [
  {
   "cell_type": "markdown",
   "metadata": {},
   "source": [
    "# European Call Option Hedging"
   ]
  },
  {
   "cell_type": "markdown",
   "metadata": {},
   "source": [
    "\n",
    "Consider the example of an investor hedging a European contingent claim $H$ in an arbitrage-free financial market of $d$ risky securities (and a risk-free bank account) and $T$ trading periods until the maturity of $H$.\n",
    "We identify the securities with their price processes $P^{1},\\dots, P^{d}$ which we assume to be non-negative stochastic processes on a probability space $(\\Omega, \\mathcal{F}, \\mathbb{P})$ adapted to a filtration $(\\mathcal{G}_t)_{t=0}^T$. \n",
    "Write $P_t = (P^{1}_t, \\dots, P^{d}_t)$ for all times $t$.\n",
    "Additionally, $P^{(0)}$ refers to the bank account which at time $t$ shall accrue at the deterministic rate $r_t^{(0)} = \\Delta P^{(0)}_t / P^{(0)}_{t-1} \\in\\mathbb{R}$.\n",
    "\n",
    "We assume the price processes to have independent increments, meaning that for every risky security $P^i$ the process of its excess returns $(R^{(i)}_t)_{t=0}^T$, $$R^{i}_t = \\Delta P^{i}_t / P^{i}_{t-1},\\quad t=0,\\dots, T,$$ as a family of random variables, is independent.\n",
    "Write $R_t = (R^{1}_t, \\dots, R^{d}_t)$ for all times $t$. \n",
    "\n",
    "The investor's self-financing hedging strategy reduces to an adapted process $A=(A_0,\\dots, A_T)$ with positions $A_t = (A^{(1)}_t,\\dots, A^{(d)}_t)$ in $\\mathbb{R}^d$ indicating the net amounts invested into the market's risky securities at time $t$ together with an *initial wealth* $W_0$:\n",
    "For the strategy to indeed be self-financing the associated *wealth process* $(W_t)$ given by $W_t=A^{(0)}_t + \\sum_{i=1}^d A^{i}_t$, where $A^{(0)}_t$ is the investor's time-$t$ position in the money market account, must satisfy the condition $\\Delta W_{t+1} = \\langle (A^{(0)}_t,A_t), (r^{(0)}_{t+1}, R_{t+1})\\rangle$ at all times $t$ which allows to recurse $$W_{t+1} = W_t + \\langle A_t, R_{t+1}\\rangle + \\bigr(W_t - \\sum_{i=1}^d A_t^{(i)}\\bigr)r^{(0)}_{t+1},\\quad t=0,\\dots, T$$ in terms of the initial wealth $W_0$ and the process $A$.\n",
    "\n",
    "It is the hedging investor's objective to expect to incur a minimal *square replication error* $|W_T - H|^2$.\n",
    "If the claim $H$ is attainable, then the unique initial endowment $W_0$ for which the replication error is expected to vanish constitutes the fair price of the claim $H$ at time $0$.\n",
    "\n",
    "Provided that $H$ factorizes with respect to the terminal state, i.e. $H=H(S_T)$, we recognize this problem to be a Markovian stochastic optimal control problem.\n",
    "Because of the independent excess returns, the state relevant to the investor at each time $t$ is limited the current wealth $w_t$ of his portfolio together with the current market prices $p_t$, i.e. $$s_t = (w_t, p_t).$$ \n",
    "The investor controls the next state $s_{t+1}$ through his investments $a_t$ into the risky assets: $S_{T+1}  = F_t(S_t, A_t, R_{t+1})$ with $$F_t(s_t, a_t, r_{t+1}) = \\left(w_t + \\langle a_t, r_{t+1}\\rangle + (w_t - \\textstyle\\sum_{i=1}^d a_t^i) r^{(0)}_{t+1},\\; (1 + r_{t+1}) p_t\\right),\\quad s_t=(w_t,p_t)\\in\\mathbb{R}^{1+d},\\quad a_t, r_{t+1}\\in\\mathbb{R}^d.$$ \n",
    "\n",
    "Setting $k_0,\\dots, k_{T-1}$ to zero and $$k_T(s_T, a_T) = |H(s_T) - w_T|$$ we find that an optimal control for a such defined problem evaluates, in the investor's context, to a perfect hedge.\n"
   ]
  },
  {
   "cell_type": "markdown",
   "metadata": {},
   "source": [
    "## Imports"
   ]
  },
  {
   "cell_type": "markdown",
   "metadata": {},
   "source": [
    "We have seen in the above that the optimal control problem lies in the scope of `ml_adp`.\n",
    "We import packages to solve the optimal control problem using `ml_adp`:"
   ]
  },
  {
   "cell_type": "code",
   "execution_count": 1,
   "metadata": {},
   "outputs": [
    {
     "name": "stderr",
     "output_type": "stream",
     "text": [
      "/Users/rubenwiedemann/Library/Caches/pypoetry/virtualenvs/ml-adp-2N881lJP-py3.7/lib/python3.7/site-packages/tqdm/auto.py:22: TqdmWarning: IProgress not found. Please update jupyter and ipywidgets. See https://ipywidgets.readthedocs.io/en/stable/user_install.html\n",
      "  from .autonotebook import tqdm as notebook_tqdm\n"
     ]
    }
   ],
   "source": [
    "from ml_adp.cost import CostToGo\n",
    "from ml_adp.model.finance import MarketStep, SquareReplicationError"
   ]
  },
  {
   "cell_type": "markdown",
   "metadata": {},
   "source": [
    "Additional packages we will touch:"
   ]
  },
  {
   "cell_type": "code",
   "execution_count": 2,
   "metadata": {},
   "outputs": [],
   "source": [
    "import torch  # Fundamental\n",
    "import matplotlib.pyplot as plt  # Plotting\n",
    "import copy  # Compare different algorithms starting with equal initial models\n",
    "from tqdm import tqdm  # Progress bars for the optimization loops"
   ]
  },
  {
   "cell_type": "markdown",
   "metadata": {},
   "source": [
    "## Device Settings"
   ]
  },
  {
   "cell_type": "markdown",
   "metadata": {},
   "source": [
    "Enable GPU acceleration of the numerical simulation, if available."
   ]
  },
  {
   "cell_type": "code",
   "execution_count": 3,
   "metadata": {},
   "outputs": [
    {
     "name": "stdout",
     "output_type": "stream",
     "text": [
      "cpu\n"
     ]
    }
   ],
   "source": [
    "device = torch.device(\"cuda:0\" if torch.cuda.is_available() else \"cpu\")\n",
    "print(device)"
   ]
  },
  {
   "cell_type": "markdown",
   "metadata": {},
   "source": [
    "## Market Specification"
   ]
  },
  {
   "cell_type": "markdown",
   "metadata": {},
   "source": [
    "As a concrete example take\n",
    "\n",
    "* the financial market to have $5$ trading periods and consist of a single risky asset trading at a current level of $100$: $T=5$, $d=1$ and $P_0 = 100$ (setting $P=P^{(1)}$ and $R=R^{(1)}$)\n",
    "* A multinomial model for the securities returns: $R_0,\\dots, R_T$ i.i.d. with law $$\\mathbb{P}_{R_t} = 3/10*\\delta_{\\{-0.05\\}} + 1/10*\\delta_{\\{0\\}} + 6/10 * \\delta_{\\{0.05\\}}$$\n",
    "* The locally risk-free asset yielding nothing: $R_t^{(0)} = 0$ for all times $t$\n",
    "* $H$ an European call option on $S$ with maturity $T=5$ and strike equal to the initial price of $S$: $$H = (S_5 - 100)^+.$$\n",
    "\n",
    "Fix the basic parameters:"
   ]
  },
  {
   "cell_type": "code",
   "execution_count": 4,
   "metadata": {},
   "outputs": [],
   "source": [
    "number_periods = 5\n",
    "number_risky_assets = 1\n",
    "\n",
    "initial_value = 100.\n",
    "risk_free_rate = 0."
   ]
  },
  {
   "cell_type": "markdown",
   "metadata": {},
   "source": [
    "Create the returns sampler:"
   ]
  },
  {
   "cell_type": "code",
   "execution_count": 5,
   "metadata": {},
   "outputs": [],
   "source": [
    "from ml_adp.model.finance import MultinomialReturnsSampler\n",
    "\n",
    "rets = torch.tensor([0.05, -0.05, 0.0]).to(device)\n",
    "probs = torch.tensor([0.6, 0.3, 0.1]).to(device)\n",
    "returns_sampler = MultinomialReturnsSampler(rets, probs)"
   ]
  },
  {
   "cell_type": "markdown",
   "metadata": {},
   "source": [
    "Create the option and derive the corresponding cost function:"
   ]
  },
  {
   "cell_type": "code",
   "execution_count": 6,
   "metadata": {},
   "outputs": [],
   "source": [
    "from ml_adp.model.finance import EuropeanCallOption\n",
    "\n",
    "option = EuropeanCallOption(strike=100., underlying_index=1)"
   ]
  },
  {
   "cell_type": "markdown",
   "metadata": {},
   "source": [
    "As a callable, ``option`` will accept samples of states $s_T=(w_T, p_T)$ and produce the corresponding samples of payoffs.\n",
    "`ml_adp.finance.SquareReplicationError` saves any such callable (i.e., callables producing payoffs) and produces samples of the square replication error.\n",
    "`ml_adp.finance.MarketStep` instead saves a risk-free rate $r^{(0)}$ and implements the state transition function $F_t$ as defined in the beginning.\n",
    "\n",
    "Combine everything and create the `CostToGo`"
   ]
  },
  {
   "cell_type": "code",
   "execution_count": 7,
   "metadata": {},
   "outputs": [],
   "source": [
    "square_replication_error = CostToGo.from_steps(number_periods)\n",
    "square_replication_error.state_functions[:-1] = MarketStep(risk_free_rate)\n",
    "square_replication_error.cost_functions[-1] = SquareReplicationError(option)"
   ]
  },
  {
   "cell_type": "markdown",
   "metadata": {},
   "source": [
    "Inspect the created object:"
   ]
  },
  {
   "cell_type": "code",
   "execution_count": 8,
   "metadata": {},
   "outputs": [
    {
     "data": {
      "text/plain": [
       "CostToGo(\n",
       " time |      state_func      |     control_func     |      cost_func       \n",
       "===========================================================================\n",
       "    0                                  None                   None         \n",
       "    1      MarketStep(-)               None                   None         \n",
       "    2      MarketStep(-)               None                   None         \n",
       "    3      MarketStep(-)               None                   None         \n",
       "    4      MarketStep(-)               None                   None         \n",
       "    5      MarketStep(-)               None             SquareRe...or(-)   \n",
       "   (6)          None                                                       \n",
       ")"
      ]
     },
     "execution_count": 8,
     "metadata": {},
     "output_type": "execute_result"
    }
   ],
   "source": [
    "square_replication_error"
   ]
  },
  {
   "cell_type": "markdown",
   "metadata": {},
   "source": [
    "For benchmarking purposes, create another `CostToGo` implementing the analytical solution of the problem:"
   ]
  },
  {
   "cell_type": "code",
   "execution_count": 10,
   "metadata": {},
   "outputs": [
    {
     "data": {
      "text/plain": [
       "CostToGo(\n",
       " time |      state_func      |     control_func     |      cost_func       \n",
       "===========================================================================\n",
       "    0                                  None                  v0(-)         \n",
       "   (1)          None                                                       \n",
       ")"
      ]
     },
     "execution_count": 10,
     "metadata": {},
     "output_type": "execute_result"
    }
   ],
   "source": [
    "def v0(state):\n",
    "    wealth = state[:, [0]]\n",
    "    return .577 * (wealth - 4.5) ** 2 # WIP: This is roughly estimated by hand\n",
    "\n",
    "analytic_error = CostToGo = CostToGo.from_steps(0)\n",
    "analytic_error.cost_functions[0] = v0\n",
    "\n",
    "analytic_error"
   ]
  },
  {
   "cell_type": "markdown",
   "metadata": {},
   "source": [
    "The option has an analytic value of $4.5$:"
   ]
  },
  {
   "cell_type": "code",
   "execution_count": 11,
   "metadata": {},
   "outputs": [
    {
     "data": {
      "text/plain": [
       "array([[<matplotlib.axes._subplots.AxesSubplot object at 0x1134504d0>]],\n",
       "      dtype=object)"
      ]
     },
     "execution_count": 11,
     "metadata": {},
     "output_type": "execute_result"
    },
    {
     "data": {
      "image/png": "[encoded data removed]",
      "text/plain": [
       "<Figure size 576x360 with 1 Axes>"
      ]
     },
     "metadata": {
      "needs_background": "light"
     },
     "output_type": "display_data"
    }
   ],
   "source": [
    "analytic_error.plot_state_component_range(\n",
    "    torch.arange(0, 9.25, 0.125).to(device),\n",
    "    torch.arange(100., 101., 1.).to(device),\n",
    "    plot_size=(8,5)\n",
    ")"
   ]
  },
  {
   "cell_type": "code",
   "execution_count": 12,
   "metadata": {},
   "outputs": [
    {
     "data": {
      "text/plain": [
       "tensor([[0.]])"
      ]
     },
     "execution_count": 12,
     "metadata": {},
     "output_type": "execute_result"
    }
   ],
   "source": [
    "analytic_error(torch.tensor([4.5]))"
   ]
  },
  {
   "cell_type": "markdown",
   "metadata": {},
   "source": [
    "## Control Function Specification"
   ]
  },
  {
   "cell_type": "markdown",
   "metadata": {},
   "source": [
    "We are at the point at which the neural networks to be used for the control functions must be specified.\n",
    "This, generally, is an exercise of the domain expert.\n",
    "A such will be informed (by e.g. [arXiv:1812.05916v3](https://arxiv.org/abs/1812.05916v3)) that, in the given situation, the optimal control at each step will depend linearly on the current wealth level and that the current market price levels parametrize these linear dependencies.\n",
    "`ml_adp.mapping.linear.LinearMap` implements learnable such parametrized linear maps by relying on an FFN to parametrize a linear transformation representation matrix.\n"
   ]
  },
  {
   "cell_type": "code",
   "execution_count": 13,
   "metadata": {},
   "outputs": [],
   "source": [
    "from ml_adp.mapping.linear import LinearMap\n",
    "from typing import Sequence\n",
    "\n",
    "class LinearStrat(torch.nn.Module):\n",
    "    \"\"\"\n",
    "    Have an FFN parametrize a linear insertion (of the wealth \n",
    "    into the control space) with (d x 1)-representation matrix \n",
    "    \"\"\"\n",
    "    def __init__(self, hidden_layer_sizes: Sequence[int], **ffn_config):\n",
    "        super().__init__()\n",
    "        ffn_config.update({\n",
    "            'size': (number_risky_assets, *hidden_layer_sizes, (number_risky_assets, 1)),\n",
    "            'hidden_activation': torch.nn.ELU()\n",
    "        })\n",
    "        self.linear_map = LinearMap.from_ffnconfig(**ffn_config)\n",
    "\n",
    "    def forward(self, state):\n",
    "        wealth = state[:, [0]]\n",
    "        prices = state[:, 1:]\n",
    "        return self.linear_map(wealth, prices)"
   ]
  },
  {
   "cell_type": "markdown",
   "metadata": {},
   "source": [
    "Set the control functions.\n",
    "A configuration of two hidden layers with $40$ neurons each has been identified to work well for the controls of this particular instance of the option hedging problem:"
   ]
  },
  {
   "cell_type": "code",
   "execution_count": 14,
   "metadata": {},
   "outputs": [],
   "source": [
    "hidden_layer_sizes = (40, 40)\n",
    "\n",
    "for time in range(len(square_replication_error) - 1):  # Do not need a control at maturity\n",
    "    square_replication_error.control_functions[time] = LinearStrat(hidden_layer_sizes)"
   ]
  },
  {
   "cell_type": "markdown",
   "metadata": {},
   "source": [
    "Inspect ``square_replication_error`` and sanity-check its representation:"
   ]
  },
  {
   "cell_type": "code",
   "execution_count": 15,
   "metadata": {},
   "outputs": [
    {
     "data": {
      "text/plain": [
       "CostToGo(\n",
       " time |      state_func      |     control_func     |      cost_func       \n",
       "===========================================================================\n",
       "    0                           LinearStrat(train)            None         \n",
       "    1      MarketStep(-)        LinearStrat(train)            None         \n",
       "    2      MarketStep(-)        LinearStrat(train)            None         \n",
       "    3      MarketStep(-)        LinearStrat(train)            None         \n",
       "    4      MarketStep(-)        LinearStrat(train)            None         \n",
       "    5      MarketStep(-)               None             SquareRe...or(-)   \n",
       "   (6)          None                                                       \n",
       ")"
      ]
     },
     "execution_count": 15,
     "metadata": {},
     "output_type": "execute_result"
    }
   ],
   "source": [
    "square_replication_error"
   ]
  },
  {
   "cell_type": "markdown",
   "metadata": {},
   "source": [
    "## Choosing the Training Distributions"
   ]
  },
  {
   "cell_type": "markdown",
   "metadata": {},
   "source": [
    "For the training distributions, the domain expert defaults to a normal distribution that for the wealths has ~ 68% of its mass contained in the interval $[0, 10]$ and is centered at $5$ (which is a reasonable estimate for the price of the option) and chooses, for the prices, again a normal distribution centered at the initial price $100$ and with the standard deviation increasing based on the number of trading periods into the market (reflecting his expectation of the distribution of the prices to get flatter with time)."
   ]
  },
  {
   "cell_type": "code",
   "execution_count": 16,
   "metadata": {},
   "outputs": [],
   "source": [
    "from torch.distributions.multivariate_normal import MultivariateNormal\n",
    "\n",
    "class TrainingStateSampler:\n",
    "    def __init__(self, time: int):\n",
    "        loc = torch.tensor([5., initial_value]).to(device)\n",
    "        covariance = torch.diag(torch.tensor([10. ** 2, (3. * max(time, 1)) ** 2])).to(device)\n",
    "        self.sampler = MultivariateNormal(loc, covariance_matrix=covariance)\n",
    "    \n",
    "    def __call__(self, sims_size: int):\n",
    "        return self.sampler.sample((sims_size,))"
   ]
  },
  {
   "cell_type": "markdown",
   "metadata": {},
   "source": [
    "Create a dictionary containing all the relevant components:"
   ]
  },
  {
   "cell_type": "code",
   "execution_count": 17,
   "metadata": {},
   "outputs": [],
   "source": [
    "model = {\n",
    "    'cost_to_go': square_replication_error,\n",
    "    'training_state_samplers': [TrainingStateSampler(time) for time in range(len(square_replication_error))],\n",
    "    'random_effects_samplers': len(square_replication_error) * [returns_sampler]\n",
    "}"
   ]
  },
  {
   "cell_type": "markdown",
   "metadata": {},
   "source": [
    "## NNContPi"
   ]
  },
  {
   "cell_type": "markdown",
   "metadata": {},
   "source": [
    "Create a fresh copy of the model and extract the components:"
   ]
  },
  {
   "cell_type": "code",
   "execution_count": 18,
   "metadata": {},
   "outputs": [],
   "source": [
    "model = copy.deepcopy(model)\n",
    "\n",
    "cost_to_go = model['cost_to_go']\n",
    "training_state_samplers = model['training_state_samplers']\n",
    "random_effects_samplers = model['random_effects_samplers']\n"
   ]
  },
  {
   "cell_type": "markdown",
   "metadata": {},
   "source": [
    "The following optimization hyperparameters have proven themselves to work well:"
   ]
  },
  {
   "cell_type": "code",
   "execution_count": 19,
   "metadata": {},
   "outputs": [],
   "source": [
    "gradient_descent_steps = 250 \n",
    "\n",
    "optimizer_class = torch.optim.Adam\n",
    "lr = 0.05\n",
    "\n",
    "scheduler_class = torch.optim.lr_scheduler.ExponentialLR\n",
    "gamma = 0.98"
   ]
  },
  {
   "cell_type": "markdown",
   "metadata": {},
   "source": [
    "Choose the sample size for the Monte-Carlo simulation:"
   ]
  },
  {
   "cell_type": "code",
   "execution_count": 20,
   "metadata": {},
   "outputs": [],
   "source": [
    "sims_size = 10000  # Monte-Carlo Simulation Size"
   ]
  },
  {
   "cell_type": "markdown",
   "metadata": {},
   "source": [
    "Perform the NNContPi optimization routine:"
   ]
  },
  {
   "cell_type": "code",
   "execution_count": 22,
   "metadata": {},
   "outputs": [
    {
     "name": "stdout",
     "output_type": "stream",
     "text": [
      "Optimizing the following model using NNContPi-Algorithm:\n",
      "CostToGo(\n",
      " time |      state_func      |     control_func     |      cost_func       \n",
      "===========================================================================\n",
      "    0                           LinearStrat(train)            None         \n",
      "    1      MarketStep(-)        LinearStrat(train)            None         \n",
      "    2      MarketStep(-)        LinearStrat(train)            None         \n",
      "    3      MarketStep(-)        LinearStrat(train)            None         \n",
      "    4      MarketStep(-)        LinearStrat(train)            None         \n",
      "    5      MarketStep(-)               None             SquareRe...or(-)   \n",
      "   (6)          None                                                       \n",
      ")\n"
     ]
    },
    {
     "name": "stderr",
     "output_type": "stream",
     "text": [
      "Time 4 Control Optimization – `cost_to_go[4:]`-Cost:  127.7779: 100%|██████████| 250/250 [00:09<00:00, 26.30it/s]\n",
      "Time 3 Control Optimization – `cost_to_go[3:]`-Cost:  103.1632: 100%|██████████| 250/250 [00:17<00:00, 14.45it/s]\n",
      "Time 2 Control Optimization – `cost_to_go[2:]`-Cost:   79.6829: 100%|██████████| 250/250 [00:22<00:00, 11.32it/s]\n",
      "Time 1 Control Optimization – `cost_to_go[1:]`-Cost:   66.8228: 100%|██████████| 250/250 [00:28<00:00,  8.89it/s]\n",
      "Time 0 Control Optimization – `cost_to_go[0:]`-Cost:   62.7865: 100%|██████████| 250/250 [00:35<00:00,  6.95it/s]\n"
     ]
    }
   ],
   "source": [
    "print(\"Optimizing the following model using NNContPi-Algorithm:\")\n",
    "print(cost_to_go.__repr__())\n",
    "\n",
    "cost_to_go.train()\n",
    "\n",
    "for time in reversed(range(len(cost_to_go) - 1)):\n",
    "    \n",
    "    objective = cost_to_go[time:]\n",
    "    training_state_sampler = training_state_samplers[time]\n",
    "    random_effects_sampler = random_effects_samplers[time]\n",
    "\n",
    "    optimizer = optimizer_class(objective.control_functions[0].parameters(), lr=lr)\n",
    "    scheduler = scheduler_class(optimizer, gamma=gamma)\n",
    "\n",
    "    gradient_descent_iterations = tqdm(range(gradient_descent_steps))\n",
    "    for iteration in gradient_descent_iterations:\n",
    "\n",
    "        training_state = training_state_sampler(sims_size)\n",
    "        rand_effs = random_effects_sampler(sims_size, objective.steps())\n",
    "\n",
    "        cost = objective(training_state, rand_effs).mean()\n",
    "        \n",
    "        cost.backward()\n",
    "        optimizer.step()\n",
    "        optimizer.zero_grad()\n",
    "        \n",
    "        if iteration % 10 == 0:\n",
    "            scheduler.step()\n",
    "\n",
    "        gradient_descent_iterations.set_description(\n",
    "            f\"Time {time} Control Optimization – `cost_to_go[{time}:]`-Cost: {cost:9.4f}\"\n",
    "        )\n",
    "    \n",
    "    objective.eval()"
   ]
  },
  {
   "cell_type": "markdown",
   "metadata": {},
   "source": [
    "Note that the time required for each gadient descent iteration increases as the backward pass advances."
   ]
  },
  {
   "cell_type": "markdown",
   "metadata": {},
   "source": [
    "Plot the expected square replication errors as implied by `cost_to_go` and the analytical solution against the initial wealth."
   ]
  },
  {
   "cell_type": "code",
   "execution_count": 23,
   "metadata": {},
   "outputs": [
    {
     "data": {
      "text/plain": [
       "array([[<matplotlib.axes._subplots.AxesSubplot object at 0x135fd8110>]],\n",
       "      dtype=object)"
      ]
     },
     "execution_count": 23,
     "metadata": {},
     "output_type": "execute_result"
    },
    {
     "data": {
      "image/png": "[encoded data removed]",
      "text/plain": [
       "<Figure size 576x360 with 1 Axes>"
      ]
     },
     "metadata": {
      "needs_background": "light"
     },
     "output_type": "display_data"
    }
   ],
   "source": [
    "rand_effs = random_effects_samplers[-1](10000, cost_to_go.steps())\n",
    "\n",
    "cost_to_go.plot_state_component_range(\n",
    "    torch.arange(0, 10.25, 0.25).to(device),\n",
    "    torch.arange(100., 101., 1.).to(device), \n",
    "    random_effects=rand_effs,\n",
    "    versus=analytic_error,\n",
    "    plot_size=(8,5)\n",
    ")"
   ]
  },
  {
   "cell_type": "markdown",
   "metadata": {},
   "source": [
    "Approximately infer from the blue line the fair price of $4.5$ for the option and compare the analytical solution (orange)."
   ]
  },
  {
   "cell_type": "markdown",
   "metadata": {},
   "source": [
    "## HybridNow"
   ]
  },
  {
   "cell_type": "markdown",
   "metadata": {},
   "source": [
    "We start anew:"
   ]
  },
  {
   "cell_type": "code",
   "execution_count": 24,
   "metadata": {},
   "outputs": [],
   "source": [
    "model = copy.deepcopy(model)\n",
    "\n",
    "cost_to_go = model['cost_to_go']\n",
    "training_state_samplers = model['training_state_samplers']\n",
    "random_effects_samplers = model['random_effects_samplers']"
   ]
  },
  {
   "cell_type": "markdown",
   "metadata": {},
   "source": [
    "We perform the optimization using the HybridNow algorithm (cf. [arXiv:1812.05916v3](https://arxiv.org/abs/1812.05916v3)) that includes value function approximation at each of the optimization steps of the above algorithm, ensuring a constant run-time for each of the backward iteration steps.\n",
    "The domain expert will notice that the convexity of the cost function in the wealth-level translates to the convexity of the expected total cost in the wealth.\n",
    "They decide to apply *partially input-convex neural networks* (as introduced in [arXiv:1609.07152v3](https://arxiv.org/abs/1609.07152v3) and implemented by `ml_adp.mapping.convex.PICNN`) for value function approximation because they expect a neural network with the right convexity properties backed into the architecture to begin with to lead to a more efficient traversal of the solution space:"
   ]
  },
  {
   "cell_type": "code",
   "execution_count": 25,
   "metadata": {},
   "outputs": [],
   "source": [
    "from ml_adp.mapping.convex import PICNN\n",
    "\n",
    "class PICNNVal(torch.nn.Module):\n",
    "    def __init__(self, output_net_hidden_sizes: Sequence[int], param_net_hidden_sizes: Sequence[int]):\n",
    "        super().__init__()\n",
    "\n",
    "        picnn_config = {        \n",
    "            'output_net_size': (1, *(output_net_hidden_sizes), 1),\n",
    "            'param_net_size': (1, *(param_net_hidden_sizes), 1),\n",
    "            'output_net_hidden_activation': torch.nn.ELU(),\n",
    "\n",
    "            'param_net_config': {\n",
    "                'hidden_activation': torch.nn.ELU()\n",
    "            }\n",
    "        }\n",
    "\n",
    "        self.picnn = PICNN(**picnn_config)\n",
    "\n",
    "    def forward(self, states):\n",
    "        wealth = states[:, [0]]\n",
    "        prices = states[:, 1:]\n",
    "        return self.picnn(wealth, prices)"
   ]
  },
  {
   "cell_type": "markdown",
   "metadata": {},
   "source": [
    "The following configurations have proven themselves to work well for the optimal control problem at hand:"
   ]
  },
  {
   "cell_type": "code",
   "execution_count": 26,
   "metadata": {},
   "outputs": [],
   "source": [
    "output_net_hidden_sizes = (60, 60)\n",
    "param_net_hidden_sizes = (100, 100)"
   ]
  },
  {
   "cell_type": "markdown",
   "metadata": {},
   "source": [
    "Choose the optimization hyperparameters for the value function approximation:"
   ]
  },
  {
   "cell_type": "code",
   "execution_count": 27,
   "metadata": {},
   "outputs": [],
   "source": [
    "approximation_gradient_descent_steps = 150\n",
    "approximation_batch_size = 50\n",
    "\n",
    "approximation_optimizer_class = torch.optim.Adam\n",
    "\n",
    "approximation_output_net_lr = 5e-2\n",
    "approximation_param_net_lr = 5e-2\n",
    "\n",
    "gamma = 0.9"
   ]
  },
  {
   "cell_type": "markdown",
   "metadata": {},
   "source": [
    "Perform the HybridNow optimization procedure:"
   ]
  },
  {
   "cell_type": "code",
   "execution_count": 28,
   "metadata": {},
   "outputs": [],
   "source": [
    "from torch.distributions.uniform import Uniform\n",
    "\n",
    "wealth_sampler = Uniform(-25, 25)\n",
    "price_sampler = Uniform(70, 130)\n",
    "\n",
    "def approximation_training_state_sampler(sims_size: int):\n",
    "    wealths = wealth_sampler.sample((sims_size, 1))\n",
    "    prices = price_sampler.sample((sims_size, 1))\n",
    "    \n",
    "    return torch.cat([wealths, prices], dim=1)"
   ]
  },
  {
   "cell_type": "code",
   "execution_count": null,
   "metadata": {},
   "outputs": [],
   "source": [
    "print(\"Optimizing the following model using Hybrid-Algorithm:\")\n",
    "print(cost_to_go.__repr__(include_id=True))\n",
    "\n",
    "cost_to_go.eval()\n",
    "\n",
    "cost_approximators = [None] * len(cost_to_go)  # Create cost approximators on the fly and save in this list\n",
    "cost_approximators[-1] = cost_to_go[-1]  # Exact\n",
    "\n",
    "for time in reversed(range(len(cost_to_go) - 1)):\n",
    "    \n",
    "    objective = cost_to_go[time] + cost_approximators[time + 1]\n",
    "    training_state_sampler = training_state_samplers[time]\n",
    "    random_effects_sampler = random_effects_samplers[time]\n",
    "\n",
    "    # Control Optimization:\n",
    "    objective.control_functions[0].train()    \n",
    "    optimizer = optimizer_class(objective.control_functions[0].parameters(), lr=lr)\n",
    "\n",
    "    optimization_iterations = tqdm(range(gradient_descent_steps))\n",
    "    for _ in optimization_iterations:\n",
    "        \n",
    "        rand_effs = random_effects_sampler(sims_size, objective.steps())\n",
    "        training_state = training_state_sampler(sims_size)\n",
    "        \n",
    "        cost = objective(training_state, rand_effs).mean()\n",
    "        cost.backward()\n",
    "        optimizer.step()\n",
    "        optimizer.zero_grad()\n",
    "\n",
    "        optimization_iterations.set_description(\n",
    "            f\"Time {time} Control Optimization - `cost_to_go[{time}:]`-Cost: {cost:9.4f}\"\n",
    "        )\n",
    "    objective.eval()\n",
    "\n",
    "    # Cost Function Approximation:\n",
    "    cost_approximator = CostToGo.from_steps(0)\n",
    "    cost_approximator.cost_functions[0] = PICNNVal(output_net_hidden_sizes, param_net_hidden_sizes)\n",
    "    cost_approximator.to(device)\n",
    "    \n",
    "    cost_approximators[time] = cost_approximator\n",
    "    \n",
    "    optimizer = approximation_optimizer_class(\n",
    "        params=cost_approximator.cost_functions[0].picnn.output_net_modules.parameters(), \n",
    "        lr=approximation_output_net_lr\n",
    "    )\n",
    "    optimizer.add_param_group({\n",
    "        'params': cost_approximator.cost_functions[0].picnn.param_net_modules.parameters(),\n",
    "        'lr': approximation_param_net_lr\n",
    "    })\n",
    "    \n",
    "    scheduler = torch.optim.lr_scheduler.ExponentialLR(optimizer, gamma=gamma)\n",
    "\n",
    "    approximation_iterations = tqdm(range(approximation_gradient_descent_steps))\n",
    "    for iteration in approximation_iterations: \n",
    "        \n",
    "        training_state = approximation_training_state_sampler(approximation_batch_size)\n",
    "        rand_effs = random_effects_sampler(sims_size, objective.steps())\n",
    "        \n",
    "        with torch.no_grad():\n",
    "            cost = torch.stack([objective(state, rand_effs).mean(dim=0) \n",
    "                                for state in training_state], dim=0)\n",
    "        approx_cost = cost_approximator(training_state)\n",
    "        approx_error = torch.norm(cost - approx_cost, p=2)\n",
    "        \n",
    "        approx_error.backward()\n",
    "        optimizer.step()\n",
    "        optimizer.zero_grad()\n",
    "        \n",
    "        if iteration % 100 == 0 and iteration >= 1:\n",
    "            scheduler.step()\n",
    "        \n",
    "        approximation_iterations.set_description(\n",
    "            f\"Time {time} Value Function Approximation - Error: {approx_error:9.2f}\"\n",
    "        )\n",
    "    cost_approximator.eval()\n",
    "\n",
    "    with torch.no_grad():\n",
    "        cost_approximator.plot_state_component_range(\n",
    "            torch.arange(-10., 10.5, 0.5).to(device),\n",
    "            torch.arange(97., 104.).to(device),\n",
    "            random_effects=rand_effs,\n",
    "            versus=objective,\n",
    "            plot_size=(8,5)\n",
    "        )\n",
    "        plt.show()"
   ]
  },
  {
   "cell_type": "markdown",
   "metadata": {},
   "source": [
    "Compare the time-$0$ cost approximator, ``cost_to_go`` with its controls optimized by the Hybrid-Now procedure, and the analytic solution:"
   ]
  },
  {
   "cell_type": "code",
   "execution_count": null,
   "metadata": {},
   "outputs": [],
   "source": [
    "cost_approximator.plot_state_component_range(\n",
    "    torch.arange(0., 10.5, 0.25).to(device),\n",
    "    torch.arange(100., 101.).to(device),\n",
    "    random_effects=rand_effs,\n",
    "    versus=[cost_to_go, analytic_error],\n",
    "    plot_size=(8,5)\n",
    ")\n",
    "plt.show()"
   ]
  }
 ],
 "metadata": {
  "kernelspec": {
   "display_name": "Python 3.7.13 ('ml-adp-2N881lJP-py3.7')",
   "language": "python",
   "name": "python3"
  },
  "language_info": {
   "codemirror_mode": {
    "name": "ipython",
    "version": 3
   },
   "file_extension": ".py",
   "mimetype": "text/x-python",
   "name": "python",
   "nbconvert_exporter": "python",
   "pygments_lexer": "ipython3",
   "version": "3.7.13"
  },
  "orig_nbformat": 4,
  "vscode": {
   "interpreter": {
    "hash": "9084cea923bee33727edf3a963bbccf31f034e433ab14f4d19ee81194427825f"
   }
  }
 },
 "nbformat": 4,
 "nbformat_minor": 2
}
